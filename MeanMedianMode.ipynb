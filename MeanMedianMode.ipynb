{
  "cells": [
    {
      "cell_type": "code",
      "execution_count": 141,
      "metadata": {
        "collapsed": true,
        "id": "0GqeziaNOcXe"
      },
      "outputs": [],
      "source": [
        "x=[115.3, 195.5, 120.5, 110.2, 90.4, 105.6, 110.9, 116.3, 122.3, 125.4,90.4]"
      ]
    },
    {
      "cell_type": "code",
      "execution_count": 142,
      "metadata": {
        "collapsed": true,
        "id": "gX4ckDUfOcXf"
      },
      "outputs": [],
      "source": [
        "mean = sum(x) / len(x)"
      ]
    },
    {
      "cell_type": "code",
      "execution_count": 143,
      "metadata": {
        "colab": {
          "base_uri": "https://localhost:8080/"
        },
        "id": "Eq3YMkKfOcXg",
        "outputId": "0163ff7a-86e9-4777-ddfa-3fbe30d2db36"
      },
      "outputs": [
        {
          "output_type": "execute_result",
          "data": {
            "text/plain": [
              "118.43636363636365"
            ]
          },
          "metadata": {},
          "execution_count": 143
        }
      ],
      "source": [
        "mean"
      ]
    },
    {
      "cell_type": "code",
      "execution_count": 144,
      "metadata": {
        "collapsed": true,
        "id": "t09px68POcXh"
      },
      "outputs": [],
      "source": [
        "import statistics"
      ]
    },
    {
      "cell_type": "code",
      "execution_count": 145,
      "metadata": {
        "colab": {
          "base_uri": "https://localhost:8080/"
        },
        "id": "mhKVNE2BOcXh",
        "outputId": "9c280c29-0fd6-49f2-e033-19dc236d934c"
      },
      "outputs": [
        {
          "output_type": "stream",
          "name": "stdout",
          "text": [
            "118.43636363636364\n"
          ]
        }
      ],
      "source": [
        "print(statistics.mean(x))"
      ]
    },
    {
      "cell_type": "code",
      "execution_count": 146,
      "metadata": {
        "collapsed": true,
        "id": "qrDXZIqHOcXh"
      },
      "outputs": [],
      "source": [
        "x.sort()"
      ]
    },
    {
      "cell_type": "code",
      "execution_count": 147,
      "metadata": {
        "colab": {
          "base_uri": "https://localhost:8080/"
        },
        "id": "2c8CCrbnOcXh",
        "outputId": "6f450c7e-8559-4281-c7e3-4c89fa01f6d8"
      },
      "outputs": [
        {
          "output_type": "execute_result",
          "data": {
            "text/plain": [
              "[90.4, 90.4, 105.6, 110.2, 110.9, 115.3, 116.3, 120.5, 122.3, 125.4, 195.5]"
            ]
          },
          "metadata": {},
          "execution_count": 147
        }
      ],
      "source": [
        "x"
      ]
    },
    {
      "cell_type": "code",
      "execution_count": 148,
      "metadata": {
        "collapsed": true,
        "id": "JSNMPHSpOcXh"
      },
      "outputs": [],
      "source": [
        "n=len(x)"
      ]
    },
    {
      "cell_type": "code",
      "execution_count": 149,
      "metadata": {
        "colab": {
          "base_uri": "https://localhost:8080/"
        },
        "id": "TohAwMGYOcXi",
        "outputId": "3506ee97-c6de-4ead-f47d-a4f1337ff8f0"
      },
      "outputs": [
        {
          "output_type": "stream",
          "name": "stdout",
          "text": [
            "Median is: 115.3\n"
          ]
        }
      ],
      "source": [
        "if  n% 2 == 0:\n",
        "    median1 = x[n//2]\n",
        "    median2 = x[n//2 - 1]\n",
        "    median = (median1 + median2)/2\n",
        "else:\n",
        "    median = x[n//2]\n",
        "print(\"Median is: \" + str(median))"
      ]
    },
    {
      "cell_type": "code",
      "execution_count": 150,
      "metadata": {
        "colab": {
          "base_uri": "https://localhost:8080/"
        },
        "id": "aUYLkEFAOcXi",
        "outputId": "43d39f6a-d095-4a08-b64d-7f30605d8662"
      },
      "outputs": [
        {
          "output_type": "stream",
          "name": "stdout",
          "text": [
            "115.3\n"
          ]
        }
      ],
      "source": [
        "print(statistics.median(x))"
      ]
    },
    {
      "cell_type": "code",
      "execution_count": 151,
      "metadata": {
        "collapsed": true,
        "id": "nm24guVHOcXi"
      },
      "outputs": [],
      "source": [
        "frequency = {}\n",
        "for value in x:\n",
        "        frequency[value] = frequency.get(value, 0) + 1"
      ]
    },
    {
      "cell_type": "code",
      "execution_count": 152,
      "metadata": {
        "colab": {
          "base_uri": "https://localhost:8080/"
        },
        "id": "Qqy4pVRROcXi",
        "outputId": "b9789aa6-9f4d-45e4-8d75-c4a3183d7401"
      },
      "outputs": [
        {
          "output_type": "execute_result",
          "data": {
            "text/plain": [
              "{90.4: 2,\n",
              " 105.6: 1,\n",
              " 110.2: 1,\n",
              " 110.9: 1,\n",
              " 115.3: 1,\n",
              " 116.3: 1,\n",
              " 120.5: 1,\n",
              " 122.3: 1,\n",
              " 125.4: 1,\n",
              " 195.5: 1}"
            ]
          },
          "metadata": {},
          "execution_count": 152
        }
      ],
      "source": [
        "frequency"
      ]
    },
    {
      "cell_type": "code",
      "execution_count": 153,
      "metadata": {
        "colab": {
          "base_uri": "https://localhost:8080/"
        },
        "id": "Er5jehVnOcXi",
        "outputId": "fa8996f0-c927-4e99-b97f-5418e61f0363"
      },
      "outputs": [
        {
          "output_type": "stream",
          "name": "stdout",
          "text": [
            "[2, 1, 1, 1, 1, 1, 1, 1, 1, 1]\n"
          ]
        }
      ],
      "source": [
        "frequencs=list(frequency.values())\n",
        "print(frequencs)"
      ]
    },
    {
      "cell_type": "code",
      "execution_count": 154,
      "metadata": {
        "collapsed": true,
        "id": "Fp37_keGOcXj"
      },
      "outputs": [],
      "source": [
        "most_frequent = np.max(frequencs)"
      ]
    },
    {
      "cell_type": "code",
      "execution_count": 155,
      "metadata": {
        "colab": {
          "base_uri": "https://localhost:8080/"
        },
        "id": "huXqAu33OcXj",
        "outputId": "a21d3785-9af2-4a23-d70d-3bf0758479ab"
      },
      "outputs": [
        {
          "output_type": "execute_result",
          "data": {
            "text/plain": [
              "2"
            ]
          },
          "metadata": {},
          "execution_count": 155
        }
      ],
      "source": [
        "most_frequent"
      ]
    },
    {
      "cell_type": "code",
      "execution_count": 156,
      "metadata": {
        "collapsed": true,
        "id": "vH0bl3e8OcXj"
      },
      "outputs": [],
      "source": [
        "modes = [key for key, value in frequency.items()\n",
        "                      if value == most_frequent]"
      ]
    },
    {
      "cell_type": "code",
      "execution_count": 157,
      "metadata": {
        "colab": {
          "base_uri": "https://localhost:8080/"
        },
        "id": "_NAQD10IOcXj",
        "outputId": "eee9a1af-0b29-44c1-b30a-6a7238252390"
      },
      "outputs": [
        {
          "output_type": "execute_result",
          "data": {
            "text/plain": [
              "[90.4]"
            ]
          },
          "metadata": {},
          "execution_count": 157
        }
      ],
      "source": [
        "modes"
      ]
    },
    {
      "cell_type": "code",
      "execution_count": 158,
      "metadata": {
        "colab": {
          "base_uri": "https://localhost:8080/"
        },
        "id": "f8J8R_JuOcXj",
        "outputId": "d3444355-1508-47f1-d9f9-415ae529578a"
      },
      "outputs": [
        {
          "output_type": "stream",
          "name": "stdout",
          "text": [
            "90.4\n"
          ]
        }
      ],
      "source": [
        "print(statistics.mode(x))"
      ]
    },
    {
      "cell_type": "code",
      "execution_count": 159,
      "metadata": {
        "collapsed": true,
        "id": "pj38lZZsOcXj"
      },
      "outputs": [],
      "source": [
        "variance = sum((i - mean) ** 2 for i in x) / (n-1)"
      ]
    },
    {
      "cell_type": "code",
      "execution_count": 160,
      "metadata": {
        "colab": {
          "base_uri": "https://localhost:8080/"
        },
        "id": "ydhPbcX7OcXk",
        "outputId": "d12941c3-1129-422c-b06a-41bf5191d13c"
      },
      "outputs": [
        {
          "output_type": "execute_result",
          "data": {
            "text/plain": [
              "788.2365454545454"
            ]
          },
          "metadata": {},
          "execution_count": 160
        }
      ],
      "source": [
        "variance"
      ]
    },
    {
      "cell_type": "code",
      "execution_count": 161,
      "metadata": {
        "colab": {
          "base_uri": "https://localhost:8080/"
        },
        "id": "pp43DuJTOcXk",
        "outputId": "03eaf290-68d6-4621-9a55-82458cdc1aa4"
      },
      "outputs": [
        {
          "output_type": "stream",
          "name": "stdout",
          "text": [
            "788.2365454545454\n"
          ]
        }
      ],
      "source": [
        "print(statistics.variance(x))"
      ]
    },
    {
      "cell_type": "code",
      "execution_count": 162,
      "metadata": {
        "collapsed": true,
        "id": "AxY9qclaOcXk"
      },
      "outputs": [],
      "source": [
        "standarddev= variance ** 0.5"
      ]
    },
    {
      "cell_type": "code",
      "execution_count": 163,
      "metadata": {
        "colab": {
          "base_uri": "https://localhost:8080/"
        },
        "id": "cma-Iv1NOcXk",
        "outputId": "93fe44f3-bb43-4b42-d785-1cc1f9e96070"
      },
      "outputs": [
        {
          "output_type": "execute_result",
          "data": {
            "text/plain": [
              "28.07555067054866"
            ]
          },
          "metadata": {},
          "execution_count": 163
        }
      ],
      "source": [
        "standarddev"
      ]
    },
    {
      "cell_type": "code",
      "execution_count": 164,
      "metadata": {
        "colab": {
          "base_uri": "https://localhost:8080/"
        },
        "id": "BQNrNbh9OcXk",
        "outputId": "7f1055c5-9309-4f9e-e237-57afa623f5ae"
      },
      "outputs": [
        {
          "output_type": "stream",
          "name": "stdout",
          "text": [
            "28.07555067054866\n"
          ]
        }
      ],
      "source": [
        "print(statistics.stdev(x))"
      ]
    },
    {
      "cell_type": "code",
      "execution_count": 165,
      "metadata": {
        "collapsed": true,
        "id": "eBr9v6ixOcXk"
      },
      "outputs": [],
      "source": [
        "import numpy as np"
      ]
    },
    {
      "cell_type": "code",
      "execution_count": 166,
      "metadata": {
        "colab": {
          "base_uri": "https://localhost:8080/"
        },
        "id": "W0vcc2BrOcXm",
        "outputId": "934c8622-4f39-4b60-f4ae-751e77468178"
      },
      "outputs": [
        {
          "output_type": "stream",
          "name": "stdout",
          "text": [
            "Normalized Values: [0.23691722169362506, 1.0, 0.2863939105613701, 0.18839200761179828, 0.0, 0.14462416745956222, 0.1950523311132255, 0.24643196955280677, 0.3035204567078972, 0.3330161750713606, 0.0]\n"
          ]
        }
      ],
      "source": [
        "x=[115.3, 195.5, 120.5, 110.2, 90.4, 105.6, 110.9, 116.3, 122.3, 125.4,90.4]\n",
        "\n",
        "min_val = np.min(x)\n",
        "max_val = np.max(x)\n",
        "\n",
        "normalized_arr = [(z - min_val) / (max_val - min_val) for z in x]\n",
        "\n",
        "print(\"Normalized Values:\",normalized_arr)"
      ]
    },
    {
      "cell_type": "code",
      "source": [
        "x=[115.3, 195.5, 120.5, 110.2, 90.4, 105.6, 110.9, 116.3, 122.3, 125.4,90.4]\n",
        "mean = np.mean(x)\n",
        "std_dev = np.std(x)\n",
        "\n",
        "standardized_data = (x - mean) / std_dev\n",
        "\n",
        "print(\"Original data:\", x)\n",
        "print(\"Standardized data:\", standardized_data)"
      ],
      "metadata": {
        "colab": {
          "base_uri": "https://localhost:8080/"
        },
        "id": "k2HluSYFO2wS",
        "outputId": "737d6548-31c9-4391-ad83-e83e68fc51e6"
      },
      "execution_count": 169,
      "outputs": [
        {
          "output_type": "stream",
          "name": "stdout",
          "text": [
            "Original data: [115.3, 195.5, 120.5, 110.2, 90.4, 105.6, 110.9, 116.3, 122.3, 125.4, 90.4]\n",
            "Standardized data: [-0.11716408  2.87884019  0.07709057 -0.30768305 -1.04734495 -0.47952369\n",
            " -0.28153339 -0.07980741  0.14433256  0.26013821 -1.04734495]\n"
          ]
        }
      ]
    }
  ],
  "metadata": {
    "kernelspec": {
      "display_name": "Python 3",
      "language": "python",
      "name": "python3"
    },
    "language_info": {
      "codemirror_mode": {
        "name": "ipython",
        "version": 3
      },
      "file_extension": ".py",
      "mimetype": "text/x-python",
      "name": "python",
      "nbconvert_exporter": "python",
      "pygments_lexer": "ipython3",
      "version": "3.6.3"
    },
    "colab": {
      "provenance": []
    }
  },
  "nbformat": 4,
  "nbformat_minor": 0
}