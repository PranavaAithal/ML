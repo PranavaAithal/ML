{
  "cells": [
    {
      "cell_type": "code",
      "execution_count": null,
      "id": "19b0deb5",
      "metadata": {
        "id": "19b0deb5"
      },
      "outputs": [],
      "source": [
        "import numpy as np\n",
        "import pandas as pd\n",
        "from copy import deepcopy\n",
        "k=3\n",
        "import random as rd\n",
        "import numpy as np"
      ]
    },
    {
      "cell_type": "code",
      "execution_count": null,
      "id": "27e21db3",
      "metadata": {
        "id": "27e21db3"
      },
      "outputs": [],
      "source": [
        "import matplotlib.pyplot as plt"
      ]
    },
    {
      "cell_type": "code",
      "execution_count": null,
      "id": "7f31349d",
      "metadata": {
        "id": "7f31349d",
        "outputId": "dcad9f8b-9252-407b-eed1-987823574f7a"
      },
      "outputs": [
        {
          "name": "stdout",
          "output_type": "stream",
          "text": [
            "    X1   X2\n",
            "0  5.9  3.2\n",
            "1  4.6  2.9\n",
            "2  6.2  2.8\n",
            "3  4.7  3.2\n",
            "4  5.5  4.2\n",
            "5  5.0  3.0\n",
            "6  4.9  3.1\n",
            "7  6.7  3.1\n",
            "8  5.1  3.8\n",
            "9  6.0  3.0\n"
          ]
        }
      ],
      "source": [
        "X = pd.read_csv('kmeans.csv')\n",
        "print(X)"
      ]
    },
    {
      "cell_type": "code",
      "execution_count": null,
      "id": "fdb7fcbf",
      "metadata": {
        "id": "fdb7fcbf"
      },
      "outputs": [],
      "source": [
        "#ERROR PLT NOT FOUND\n",
        "import matplotlib.pyplot as plt"
      ]
    },
    {
      "cell_type": "code",
      "execution_count": null,
      "id": "df2fb295",
      "metadata": {
        "id": "df2fb295",
        "outputId": "5a6f7c1f-423a-4b8a-ffbf-05dda5556844"
      },
      "outputs": [
        {
          "data": {
            "image/png": "[encoded data removed]",
            "text/plain": [
              "<Figure size 432x288 with 1 Axes>"
            ]
          },
          "metadata": {
            "needs_background": "light"
          },
          "output_type": "display_data"
        }
      ],
      "source": [
        "X=X[[\"X1\",\"X2\"]]\n",
        "#VISUALISE DATA POINTS\n",
        "plt.scatter(X[\"X1\"],X[\"X2\"],c='black')\n",
        "plt.xlabel('X - AXIS')\n",
        "plt.ylabel('Y - AXIS')\n",
        "plt.show()"
      ]
    },
    {
      "cell_type": "code",
      "execution_count": null,
      "id": "159f468b",
      "metadata": {
        "id": "159f468b"
      },
      "outputs": [],
      "source": [
        "x1 = X['X1'].values\n",
        "x2 = X['X2'].values"
      ]
    },
    {
      "cell_type": "code",
      "execution_count": null,
      "id": "894cc43d",
      "metadata": {
        "id": "894cc43d",
        "outputId": "855ca62a-3b65-447e-c67f-b4c8df838e0c"
      },
      "outputs": [
        {
          "name": "stdout",
          "output_type": "stream",
          "text": [
            "[[5.9 3.2]\n",
            " [4.6 2.9]\n",
            " [6.2 2.8]\n",
            " [4.7 3.2]\n",
            " [5.5 4.2]\n",
            " [5.  3. ]\n",
            " [4.9 3.1]\n",
            " [6.7 3.1]\n",
            " [5.1 3.8]\n",
            " [6.  3. ]]\n"
          ]
        }
      ],
      "source": [
        "X = np.array(list(zip(x1,x2)))\n",
        "print(X)"
      ]
    },
    {
      "cell_type": "code",
      "execution_count": null,
      "id": "25dd473a",
      "metadata": {
        "id": "25dd473a"
      },
      "outputs": [],
      "source": [
        "C_x = [6.2, 6.6 , 6.5]\n",
        "C_y = [3.2, 3.7 ,3.0]"
      ]
    },
    {
      "cell_type": "code",
      "execution_count": null,
      "id": "5df78b52",
      "metadata": {
        "id": "5df78b52",
        "outputId": "26682185-b482-4818-9d93-bf2f6208662f"
      },
      "outputs": [
        {
          "name": "stdout",
          "output_type": "stream",
          "text": [
            "Initial Centroids\n",
            "(3, 2)\n"
          ]
        }
      ],
      "source": [
        "Centroid = np.array(list(zip(C_x, C_y)), dtype=np.float32)\n",
        "print(\"Initial Centroids\")\n",
        "print(Centroid.shape)"
      ]
    },
    {
      "cell_type": "code",
      "execution_count": null,
      "id": "3e7eed73",
      "metadata": {
        "id": "3e7eed73",
        "outputId": "8d6547db-8377-46ec-d96a-052ffeb2a39e"
      },
      "outputs": [
        {
          "data": {
            "text/plain": [
              "array([[6.2, 3.2],\n",
              "       [6.6, 3.7],\n",
              "       [6.5, 3. ]], dtype=float32)"
            ]
          },
          "execution_count": 260,
          "metadata": {},
          "output_type": "execute_result"
        }
      ],
      "source": [
        "Centroid"
      ]
    },
    {
      "cell_type": "code",
      "execution_count": null,
      "id": "155196dc",
      "metadata": {
        "id": "155196dc",
        "outputId": "ca84e27c-30e1-4874-ce5a-e40d4ea490c4"
      },
      "outputs": [
        {
          "data": {
            "text/plain": [
              "numpy.ndarray"
            ]
          },
          "execution_count": 261,
          "metadata": {},
          "output_type": "execute_result"
        }
      ],
      "source": [
        "type(Centroid)"
      ]
    },
    {
      "cell_type": "code",
      "execution_count": null,
      "id": "a6e7cf45",
      "metadata": {
        "id": "a6e7cf45",
        "outputId": "fe0fcc21-f2e0-438f-8bfb-1fb567391c64"
      },
      "outputs": [
        {
          "name": "stdout",
          "output_type": "stream",
          "text": [
            "[[0. 0.]\n",
            " [0. 0.]\n",
            " [0. 0.]]\n"
          ]
        }
      ],
      "source": [
        "Centroid_old = np.zeros(Centroid.shape)\n",
        "print(Centroid_old)"
      ]
    },
    {
      "cell_type": "code",
      "execution_count": null,
      "id": "601462e9",
      "metadata": {
        "id": "601462e9",
        "outputId": "d30ad77a-5fd3-464b-9d2c-3dddc2f05291"
      },
      "outputs": [
        {
          "name": "stdout",
          "output_type": "stream",
          "text": [
            "[0. 0. 0. 0. 0. 0. 0. 0. 0. 0.]\n"
          ]
        }
      ],
      "source": [
        "clusters = np.zeros(len(X))\n",
        "print(clusters)"
      ]
    },
    {
      "cell_type": "code",
      "execution_count": null,
      "id": "0ddd17b9",
      "metadata": {
        "id": "0ddd17b9",
        "outputId": "daeb6276-8d66-4fdf-b9ab-414bb58e9ede"
      },
      "outputs": [
        {
          "data": {
            "text/plain": [
              "[0, 1, 2, 0, 0, 1, 2, 1, 1, 0]"
            ]
          },
          "execution_count": 264,
          "metadata": {},
          "output_type": "execute_result"
        }
      ],
      "source": [
        "[0,1,2,0,0,1,2,1,1,0]"
      ]
    },
    {
      "cell_type": "code",
      "execution_count": null,
      "id": "bd6aeb50",
      "metadata": {
        "id": "bd6aeb50"
      },
      "outputs": [],
      "source": [
        "def euclidean(a,b, ax=1):\n",
        "    return np.linalg.norm(a-b, axis=ax)"
      ]
    },
    {
      "cell_type": "code",
      "execution_count": null,
      "id": "58a6c109",
      "metadata": {
        "id": "58a6c109",
        "outputId": "6d488576-4fba-4f81-82e0-324678f771f3"
      },
      "outputs": [
        {
          "name": "stdout",
          "output_type": "stream",
          "text": [
            "12.537144692236463\n"
          ]
        }
      ],
      "source": [
        "error = euclidean(Centroid, Centroid_old,None)\n",
        "print(error)"
      ]
    },
    {
      "cell_type": "code",
      "execution_count": null,
      "id": "b90081c0",
      "metadata": {
        "id": "b90081c0"
      },
      "outputs": [],
      "source": [
        "iterr = 0"
      ]
    },
    {
      "cell_type": "code",
      "execution_count": null,
      "id": "d1b0022b",
      "metadata": {
        "id": "d1b0022b",
        "outputId": "9290de9c-4665-4822-a709-de0dda042cdc"
      },
      "outputs": [
        {
          "name": "stdout",
          "output_type": "stream",
          "text": [
            "Old Centroid\n",
            "[[6.2 3.2]\n",
            " [6.6 3.7]\n",
            " [6.5 3. ]]\n",
            " New Centroids after  1  Iteration \n",
            " [[5.1714287 3.1714287]\n",
            " [5.5       4.2      ]\n",
            " [6.45      2.95     ]]\n",
            "Error ...  1.5886391\n",
            "Data points belong to which cluster\n",
            "[0. 0. 2. 0. 1. 0. 0. 2. 0. 0.]\n",
            "********************************************************\n",
            "Old Centroid\n",
            "[[5.1714287 3.1714287]\n",
            " [5.5       4.2      ]\n",
            " [6.45      2.95     ]]\n",
            " New Centroids after  2  Iteration \n",
            " [[4.8   3.05 ]\n",
            " [5.3   4.   ]\n",
            " [6.2   3.025]]\n",
            "Error ...  0.5484787\n",
            "Data points belong to which cluster\n",
            "[2. 0. 2. 0. 1. 0. 0. 2. 1. 2.]\n",
            "********************************************************\n",
            "Old Centroid\n",
            "[[4.8   3.05 ]\n",
            " [5.3   4.   ]\n",
            " [6.2   3.025]]\n",
            " New Centroids after  3  Iteration \n",
            " [[4.8   3.05 ]\n",
            " [5.3   4.   ]\n",
            " [6.2   3.025]]\n",
            "Error ...  0.0\n",
            "Data points belong to which cluster\n",
            "[2. 0. 2. 0. 1. 0. 0. 2. 1. 2.]\n",
            "********************************************************\n"
          ]
        }
      ],
      "source": [
        "while error != 0:\n",
        "        # Assigning each value to its closest cluster\n",
        "        iterr = iterr + 1\n",
        "        for i in range(len(X)):\n",
        "            #print(\"Data Points\")\n",
        "            #print(X[i])\n",
        "            distances = euclidean(X[i], Centroid)\n",
        "            #print(\"Distances\")\n",
        "            #print(distances)\n",
        "            cluster = np.argmin(distances)\n",
        "            clusters[i] = cluster\n",
        "        Centroid_old = deepcopy(Centroid)\n",
        "        print(\"Old Centroid\")\n",
        "        print(Centroid_old)\n",
        "\n",
        "\n",
        "        # Finding the new centroids by taking the Mean\n",
        "        for p in range(k):\n",
        "            points = [X[j] for j in range(len(X)) if clusters[j] == p]\n",
        "            Centroid[p] = np.mean(points, axis=0)\n",
        "        print(\" New Centroids after \", iterr,\" Iteration \\n\", Centroid)\n",
        "        error = euclidean(Centroid, Centroid_old, None)\n",
        "        print(\"Error ... \",error)\n",
        "        print(\"Data points belong to which cluster\")\n",
        "        print(clusters)\n",
        "        print(\"********************************************************\")\n",
        "        if(iterr == 1):\n",
        "            a,b = Centroid[0][0],Centroid[0][1]\n",
        "        if(iterr == 2):\n",
        "            c,d = Centroid[1][0],Centroid[1][1]\n",
        "\n",
        "e,f=Centroid[2][0],Centroid[2][1]"
      ]
    },
    {
      "cell_type": "code",
      "execution_count": null,
      "id": "55557f4e",
      "metadata": {
        "id": "55557f4e",
        "outputId": "fe262694-d8d4-4292-bfb4-bbdc55eb95a0"
      },
      "outputs": [
        {
          "name": "stdout",
          "output_type": "stream",
          "text": [
            "Centroid of first cluster after 1 iteration is [5.171,3.171]\n"
          ]
        }
      ],
      "source": [
        "print(f\"Centroid of first cluster after 1 iteration is [{a:5.3f},{b:5.3f}]\")"
      ]
    },
    {
      "cell_type": "code",
      "execution_count": null,
      "id": "70240925",
      "metadata": {
        "id": "70240925",
        "outputId": "9627289f-3873-4141-bb8a-eea78b4a2a35"
      },
      "outputs": [
        {
          "name": "stdout",
          "output_type": "stream",
          "text": [
            "Centroid of second cluster after 2 iteration is [5.300,4.000]\n"
          ]
        }
      ],
      "source": [
        "print(f\"Centroid of second cluster after 2 iteration is [{c:5.3f},{d:5.3f}]\")"
      ]
    },
    {
      "cell_type": "code",
      "execution_count": null,
      "id": "fecaaac7",
      "metadata": {
        "id": "fecaaac7",
        "outputId": "ff089e73-9ece-429c-e243-813b7742b68f"
      },
      "outputs": [
        {
          "name": "stdout",
          "output_type": "stream",
          "text": [
            "Centroid of third cluster while converging is [6.200,3.025]\n"
          ]
        }
      ],
      "source": [
        "print(f\"Centroid of third cluster while converging is [{e:5.3f},{f:5.3f}]\")"
      ]
    },
    {
      "cell_type": "code",
      "execution_count": null,
      "id": "e031499b",
      "metadata": {
        "id": "e031499b",
        "outputId": "04f885c9-f298-44d8-a25d-0e5b49a09886"
      },
      "outputs": [
        {
          "name": "stdout",
          "output_type": "stream",
          "text": [
            "The number of iterations for the cluster to converge is  3\n"
          ]
        }
      ],
      "source": [
        "print(\"The number of iterations for the cluster to converge is \",iterr)"
      ]
    }
  ],
  "metadata": {
    "kernelspec": {
      "display_name": "Python 3 (ipykernel)",
      "language": "python",
      "name": "python3"
    },
    "language_info": {
      "codemirror_mode": {
        "name": "ipython",
        "version": 3
      },
      "file_extension": ".py",
      "mimetype": "text/x-python",
      "name": "python",
      "nbconvert_exporter": "python",
      "pygments_lexer": "ipython3",
      "version": "3.10.12"
    },
    "colab": {
      "provenance": []
    }
  },
  "nbformat": 4,
  "nbformat_minor": 5
}